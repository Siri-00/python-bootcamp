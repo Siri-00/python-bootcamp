{
 "cells": [
  {
   "cell_type": "code",
   "execution_count": 4,
   "id": "1a2bcc10",
   "metadata": {},
   "outputs": [
    {
     "name": "stdout",
     "output_type": "stream",
     "text": [
      "4\n",
      "5\n",
      "9 -1 20 0.8 4 0 1024\n"
     ]
    }
   ],
   "source": [
    "a=int(input())\n",
    "b=int(input())\n",
    "print(f\"{a+b} {a-b} {a*b} {a/b} {a%b} {a//b} {a**b}\")"
   ]
  },
  {
   "cell_type": "code",
   "execution_count": 11,
   "id": "634c34de",
   "metadata": {},
   "outputs": [
    {
     "name": "stdout",
     "output_type": "stream",
     "text": [
      "45\n",
      "both two wheeler and four wheeler\n"
     ]
    }
   ],
   "source": [
    "age=int(input())\n",
    "if(age>=18) and (age<=24):\n",
    "    print(\"only for two wheeler\")\n",
    "elif(age>=18) and (age<50):\n",
    "    print(\"both two wheeler and four wheeler\")\n",
    "else:\n",
    "    print(\"two wheeler, four wheeler and six wheeler\")"
   ]
  },
  {
   "cell_type": "code",
   "execution_count": 14,
   "id": "d43d1984",
   "metadata": {},
   "outputs": [
    {
     "name": "stdout",
     "output_type": "stream",
     "text": [
      "10\n",
      "24\n",
      "8\n",
      "286\n",
      "not cheated\n"
     ]
    }
   ],
   "source": [
    "t=700\n",
    "a=int(input())\n",
    "b=int(input())\n",
    "c=int(input())\n",
    "cost=a*15+b*4+c*5\n",
    "print(cost)\n",
    "if(cost>700):\n",
    "    print(\"cheated\")\n",
    "else:\n",
    "\n",
    "    print(\"not cheated\")\n",
    "\n",
    "\n",
    "\n"
   ]
  },
  {
   "cell_type": "code",
   "execution_count": 21,
   "id": "f882d6d5",
   "metadata": {},
   "outputs": [
    {
     "name": "stdout",
     "output_type": "stream",
     "text": [
      "4\n",
      "even and positive\n"
     ]
    }
   ],
   "source": [
    "n=int(input())\n",
    "if (n>0) and (n%2==0):\n",
    "    print(\"even and positive\")\n",
    "elif (n>0) and (n%2!=0):\n",
    "    print(\"odd and positive\")\n",
    "elif (n>0) and (n%2==0):\n",
    "    print(\"even and negative\")\n",
    "else:\n",
    "    print(\"odd and negative\")"
   ]
  },
  {
   "cell_type": "code",
   "execution_count": 5,
   "id": "f75ea9e4",
   "metadata": {
    "scrolled": true
   },
   "outputs": [
    {
     "name": "stdout",
     "output_type": "stream",
     "text": [
      "prime number\n"
     ]
    }
   ],
   "source": [
    "num=11\n",
    "for i in range(2,num):\n",
    "    if(num%i==0):\n",
    "        print(\"not a prime number\")\n",
    "        break;\n",
    "else: \n",
    "       print(\"prime number\")"
   ]
  },
  {
   "cell_type": "code",
   "execution_count": 11,
   "id": "696742da",
   "metadata": {},
   "outputs": [
    {
     "name": "stdout",
     "output_type": "stream",
     "text": [
      "enter a number121\n",
      "palindrome number\n"
     ]
    }
   ],
   "source": [
    "n=int(input(\"enter a number\"))\n",
    "pal=n\n",
    "rev=0\n",
    "while(n>0):\n",
    "    r=n%10\n",
    "    rev=rev*10+r\n",
    "    n=n//10\n",
    "if(pal==rev):\n",
    "    print(\"palindrome number\")\n",
    "else :\n",
    "    print(\"not a palindrome number\")"
   ]
  },
  {
   "cell_type": "code",
   "execution_count": 5,
   "id": "4d8dec87",
   "metadata": {},
   "outputs": [
    {
     "name": "stdout",
     "output_type": "stream",
     "text": [
      "1\n",
      "2\n",
      "3\n",
      "4\n",
      "5\n",
      "6\n",
      "7\n",
      "8\n",
      "9\n",
      "10\n",
      "55\n"
     ]
    }
   ],
   "source": [
    "sum=0\n",
    "for i in range(1,11):\n",
    "    print(i)\n",
    "    sum=sum+i\n",
    "print(sum)"
   ]
  },
  {
   "cell_type": "code",
   "execution_count": 2,
   "id": "410137b3",
   "metadata": {},
   "outputs": [
    {
     "name": "stdout",
     "output_type": "stream",
     "text": [
      "enter a number:145\n",
      "145 is strong number:\n"
     ]
    }
   ],
   "source": [
    "num=input(\"enter a number:\")\n",
    "add=0\n",
    "for i in num:\n",
    "    i=int(i)\n",
    "    fact=1\n",
    "    for j in range(1,i+1):\n",
    "        fact=fact*j\n",
    "    add=add+fact\n",
    "if add==int(num):\n",
    "    print(num,\"is strong number:\")\n",
    "else:\n",
    "    print(num,\"is not a strong number:\")"
   ]
  },
  {
   "cell_type": "code",
   "execution_count": null,
   "id": "a80bfd60",
   "metadata": {},
   "outputs": [],
   "source": []
  }
 ],
 "metadata": {
  "kernelspec": {
   "display_name": "Python 3 (ipykernel)",
   "language": "python",
   "name": "python3"
  },
  "language_info": {
   "codemirror_mode": {
    "name": "ipython",
    "version": 3
   },
   "file_extension": ".py",
   "mimetype": "text/x-python",
   "name": "python",
   "nbconvert_exporter": "python",
   "pygments_lexer": "ipython3",
   "version": "3.11.5"
  }
 },
 "nbformat": 4,
 "nbformat_minor": 5
}
