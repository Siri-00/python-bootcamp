{
 "cells": [
  {
   "cell_type": "code",
   "execution_count": 5,
   "id": "6832723d",
   "metadata": {},
   "outputs": [
    {
     "name": "stdout",
     "output_type": "stream",
     "text": [
      "Hello Swec\n"
     ]
    }
   ],
   "source": [
    "print (\"Hello Swec\")"
   ]
  },
  {
   "cell_type": "code",
   "execution_count": 6,
   "id": "9f3b459f",
   "metadata": {},
   "outputs": [],
   "source": [
    "#printing formats\n",
    "#1.printing-->\n"
   ]
  },
  {
   "cell_type": "code",
   "execution_count": 7,
   "id": "eb574343",
   "metadata": {},
   "outputs": [
    {
     "name": "stdout",
     "output_type": "stream",
     "text": [
      "good morning python\n"
     ]
    }
   ],
   "source": [
    "var_1=\"python\"\n",
    "print(\"good morning\",var_1)"
   ]
  },
  {
   "cell_type": "code",
   "execution_count": 8,
   "id": "f03f45c5",
   "metadata": {},
   "outputs": [
    {
     "name": "stdout",
     "output_type": "stream",
     "text": [
      "enter your name\n",
      "pranavi\n",
      "hello pranavi\n"
     ]
    }
   ],
   "source": [
    "name=input(\"enter your name\\n\")\n",
    "print(\"hello\",name)"
   ]
  },
  {
   "cell_type": "code",
   "execution_count": 11,
   "id": "66ee01e8",
   "metadata": {},
   "outputs": [
    {
     "name": "stdout",
     "output_type": "stream",
     "text": [
      "enter your name\n",
      "pranavi\n",
      "enter your age20\n",
      "hellopranaviyour age is20\n"
     ]
    }
   ],
   "source": [
    "name=input(\"enter your name\\n\")\n",
    "age=input(\"enter your age\")\n",
    "print(f\"hello{name}your age is{age}\")"
   ]
  },
  {
   "cell_type": "code",
   "execution_count": 13,
   "id": "0fd76fc8",
   "metadata": {},
   "outputs": [
    {
     "name": "stdout",
     "output_type": "stream",
     "text": [
      "enter your name\n",
      "pranavi\n",
      "33\n",
      "24\n",
      "56\n",
      "hellopranaviyour marks are 113 your avg is75.66666666666667\n"
     ]
    }
   ],
   "source": [
    "name=input(\"enter your name\\n\")\n",
    "s1=int(input())\n",
    "s2=int(input())\n",
    "s3=int(input())\n",
    "print(f\"hello{name}your marks are {s1+s2+s3} your avg is{s1+s2+s3/3}\")"
   ]
  },
  {
   "cell_type": "code",
   "execution_count": 22,
   "id": "e91b63a9",
   "metadata": {},
   "outputs": [
    {
     "name": "stdout",
     "output_type": "stream",
     "text": [
      "enter your name\n",
      "pranavi\n",
      "19\n",
      "hellopranaviyour 19 eligible for the license\n"
     ]
    }
   ],
   "source": [
    "name=input(\"enter your name\\n\")\n",
    "age=int(input())\n",
    "if age>=18:\n",
    "    print(f\"hello{name}your {age} eligible for the license\")\n",
    "else:\n",
    "            print(f\"hello{name}your {age} not eligible for the license\")"
   ]
  },
  {
   "cell_type": "code",
   "execution_count": null,
   "id": "ba1ee80f",
   "metadata": {},
   "outputs": [],
   "source": []
  }
 ],
 "metadata": {
  "kernelspec": {
   "display_name": "Python 3 (ipykernel)",
   "language": "python",
   "name": "python3"
  },
  "language_info": {
   "codemirror_mode": {
    "name": "ipython",
    "version": 3
   },
   "file_extension": ".py",
   "mimetype": "text/x-python",
   "name": "python",
   "nbconvert_exporter": "python",
   "pygments_lexer": "ipython3",
   "version": "3.11.5"
  }
 },
 "nbformat": 4,
 "nbformat_minor": 5
}
